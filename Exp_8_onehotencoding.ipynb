{
  "nbformat": 4,
  "nbformat_minor": 0,
  "metadata": {
    "colab": {
      "provenance": [],
      "authorship_tag": "ABX9TyPl/N4KnIWYmjGLgYOa0Nml",
      "include_colab_link": true
    },
    "kernelspec": {
      "name": "python3",
      "display_name": "Python 3"
    },
    "language_info": {
      "name": "python"
    }
  },
  "cells": [
    {
      "cell_type": "markdown",
      "metadata": {
        "id": "view-in-github",
        "colab_type": "text"
      },
      "source": [
        "<a href=\"https://colab.research.google.com/github/vidya100804/DEEP-LEARNING-EXPERIMENTS/blob/main/Exp_8_onehotencoding.ipynb\" target=\"_parent\"><img src=\"https://colab.research.google.com/assets/colab-badge.svg\" alt=\"Open In Colab\"/></a>"
      ]
    },
    {
      "cell_type": "code",
      "execution_count": 1,
      "metadata": {
        "id": "9NBR79sdGysz"
      },
      "outputs": [],
      "source": [
        "from tensorflow.keras.preprocessing.text import one_hot"
      ]
    },
    {
      "cell_type": "code",
      "source": [
        "words = ['apple', 'banana', 'cherry', 'apple', 'cherry', 'banana', 'apple']"
      ],
      "metadata": {
        "id": "jY1SD3EjG5bt"
      },
      "execution_count": 2,
      "outputs": []
    },
    {
      "cell_type": "code",
      "source": [
        "vocab = set(words)"
      ],
      "metadata": {
        "id": "ZyFKVIxxG8P7"
      },
      "execution_count": 3,
      "outputs": []
    },
    {
      "cell_type": "code",
      "source": [
        "word_to_int = {word: i for i, word in enumerate(vocab)}\n",
        "int_words = [word_to_int[word] for word in words]"
      ],
      "metadata": {
        "id": "iX3fVzTgG-aE"
      },
      "execution_count": 4,
      "outputs": []
    },
    {
      "cell_type": "code",
      "source": [
        "one_hot_words = []\n",
        "for int_word in int_words:\n",
        "  one_hot_word = [0] * len(vocab)\n",
        "  one_hot_word[int_word] = 1\n",
        "  one_hot_words.append(one_hot_word)\n",
        "\n",
        "print(one_hot_words)"
      ],
      "metadata": {
        "colab": {
          "base_uri": "https://localhost:8080/"
        },
        "id": "eBvFtdF-HKie",
        "outputId": "b8b52b1a-e452-4864-f09a-ade007c84e98"
      },
      "execution_count": 5,
      "outputs": [
        {
          "output_type": "stream",
          "name": "stdout",
          "text": [
            "[[0, 0, 1], [0, 1, 0], [1, 0, 0], [0, 0, 1], [1, 0, 0], [0, 1, 0], [0, 0, 1]]\n"
          ]
        }
      ]
    },
    {
      "cell_type": "code",
      "source": [
        "#Program 2\n",
        "import string\n",
        "input_string = 'hello world'\n",
        "vocab = set(input_string)\n"
      ],
      "metadata": {
        "id": "TKPThuWAHT8C"
      },
      "execution_count": 6,
      "outputs": []
    },
    {
      "cell_type": "code",
      "source": [
        "char_to_int = {char: i for i, char in enumerate(vocab)}\n",
        "int_chars = [char_to_int[char] for char in input_string]"
      ],
      "metadata": {
        "id": "50Ad1Tz7He4u"
      },
      "execution_count": 7,
      "outputs": []
    },
    {
      "cell_type": "code",
      "source": [
        "one_hot_chars = []\n",
        "for int_char in int_chars:\n",
        "  one_hot_char = [0] * len(vocab)\n",
        "  one_hot_char[int_char] = 1\n",
        "  one_hot_chars.append(one_hot_char)\n",
        "\n",
        "print(one_hot_chars)"
      ],
      "metadata": {
        "colab": {
          "base_uri": "https://localhost:8080/"
        },
        "id": "Prl6aotKHl3e",
        "outputId": "485f10f2-adc3-4f1d-8455-d557fc6a1018"
      },
      "execution_count": 8,
      "outputs": [
        {
          "output_type": "stream",
          "name": "stdout",
          "text": [
            "[[1, 0, 0, 0, 0, 0, 0, 0], [0, 0, 1, 0, 0, 0, 0, 0], [0, 1, 0, 0, 0, 0, 0, 0], [0, 1, 0, 0, 0, 0, 0, 0], [0, 0, 0, 0, 1, 0, 0, 0], [0, 0, 0, 0, 0, 0, 0, 1], [0, 0, 0, 0, 0, 0, 1, 0], [0, 0, 0, 0, 1, 0, 0, 0], [0, 0, 0, 1, 0, 0, 0, 0], [0, 1, 0, 0, 0, 0, 0, 0], [0, 0, 0, 0, 0, 1, 0, 0]]\n"
          ]
        }
      ]
    }
  ]
}